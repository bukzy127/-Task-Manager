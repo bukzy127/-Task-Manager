{
 "cells": [
  {
   "cell_type": "code",
   "execution_count": null,
   "metadata": {},
   "outputs": [],
   "source": [
    "\"\"\"\n",
    "You're working for an online marketplace. Users often search for products using keywords. Given a list of product names\n",
    "and their corresponding IDs, design a function that allows users to input a keyword and quickly \n",
    "find the product they are looking for. Implement a linear search algorithm to search for the keyword in the list of product\n",
    "names and return the corresponding product ID\n",
    "\"\"\"\n",
    "\n",
    "# Takes a product Input from the usser for search\n",
    "usser_input = input(\"Please input the product name for search: \").lower()\n",
    "\n",
    "# List of products in the store\n",
    "product_list = {11 : \"coke\", 12 : \"sprite\", 13 : \"milk\", 14 : \"chips\", \n",
    "     15 : \"eggs\", 16 : \"bread\", 17: \"oatmeal\", 18 : \"candy_bars\", 19: \"cheese\", 20: \"beer\",  \n",
    "     21: \"bottled_water\", 22 : \"cigarettes\", 23 : \"ecigarettes\", 24 : \"tobacco\", 25 : \"lighters\", \n",
    "     26 : \"chocolate_bars\", 27 : \"cakes\", 28: \"pepperoni\", 29 : \"bacon\", 30 : \"ham\", 31 : \"packaged_meat\", \n",
    "     32 : \"wine\", 33 : \"cupcakes\", 34 : \"muffins\", 35 : \"granola_bars\", 36 : \"bananas\", 37 : \"apples\", 38 : \"lemons\", \n",
    "     39 : \"oranges\", 40 : \"potatoes\", 41 : \"tomatoes\", 42 : \"cucumbers\", 43 : \"onions\", 44 : \"lettuce\", 45 : \"garlic\", \n",
    "     46 : \"peppers\", 47 : \"avocados\", 48 : \"carrots\", 49 : \"liquors\", 50 : \"fried_chicken\", 51 : \"coffee\", \n",
    "     52 : \"yogurts\", 53 : \"milkshakes\", 54 : \"fruit_juices\", 55 : \"beef\", 56 : \"hot_dogs\", \n",
    "     57 : \"peanut_butter\", 58 : \"baby_diapers\", 58 : \"sandwiches\", 59 : \"pizza\", 60 : \"soap\", \n",
    "     61 : \"butter\", 62 : \"rice\", 63 : \"biscuits\", 64 : \"donuts\", 65 : \"noodles\"}\n",
    "        \n",
    "#Define a function that checks in the requested product is in the product list\n",
    "def search_products(*args):\n",
    "    for key, value in product_list.items():\n",
    "        if value == usser_input:\n",
    "            return key\n",
    "#set the funtion into a variable           \n",
    "result = search_products(product_list, usser_input)\n",
    "\n",
    "#Introducing the if condtition to get the results\n",
    "if result:\n",
    "    print(f\"{usser_input} available in the store, The produc9t ID is : {result}\")\n",
    "else:\n",
    "    print(f\"'{usser_input}' was not found in the list of products.\")"
   ]
  }
 ],
 "metadata": {
  "kernelspec": {
   "display_name": "Python 3",
   "language": "python",
   "name": "python3"
  },
  "language_info": {
   "codemirror_mode": {
    "name": "ipython",
    "version": 3
   },
   "file_extension": ".py",
   "mimetype": "text/x-python",
   "name": "python",
   "nbconvert_exporter": "python",
   "pygments_lexer": "ipython3",
   "version": "3.8.5"
  }
 },
 "nbformat": 4,
 "nbformat_minor": 4
}
